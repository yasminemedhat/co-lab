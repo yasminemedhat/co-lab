{
  "nbformat": 4,
  "nbformat_minor": 0,
  "metadata": {
    "colab": {
      "name": "Untitled0.ipynb",
      "provenance": [],
      "collapsed_sections": [
        "ZwbMdVPut3fe",
        "2AvKu5ehqRZd",
        "FmJPtHRQFKHL",
        "30hiD6_764cj",
        "T31SFftEG6Ce",
        "JbWZ6Z-zBkBi",
        "yL1wHUciXs_y",
        "QjYc42sTepwV",
        "FlY5bsdH2k-o"
      ],
      "toc_visible": true,
      "machine_shape": "hm"
    },
    "kernelspec": {
      "name": "python3",
      "display_name": "Python 3"
    },
    "accelerator": "GPU"
  },
  "cells": [
    {
      "cell_type": "markdown",
      "metadata": {
        "id": "TgMxSMJ8wgPn",
        "colab_type": "text"
      },
      "source": [
        "# Rating Predictions on Yelp dataset"
      ]
    },
    {
      "cell_type": "code",
      "metadata": {
        "id": "OA-iZuJobZ3p",
        "colab_type": "code",
        "outputId": "6e5a1117-87b4-4d6a-a521-3ad1e09315b7",
        "colab": {
          "base_uri": "https://localhost:8080/",
          "height": 124
        }
      },
      "source": [
        "from google.colab import drive\n",
        "drive.mount('/content/gdrive')"
      ],
      "execution_count": 0,
      "outputs": [
        {
          "output_type": "stream",
          "text": [
            "Go to this URL in a browser: https://accounts.google.com/o/oauth2/auth?client_id=947318989803-6bn6qk8qdgf4n4g3pfee6491hc0brc4i.apps.googleusercontent.com&redirect_uri=urn%3aietf%3awg%3aoauth%3a2.0%3aoob&response_type=code&scope=email%20https%3a%2f%2fwww.googleapis.com%2fauth%2fdocs.test%20https%3a%2f%2fwww.googleapis.com%2fauth%2fdrive%20https%3a%2f%2fwww.googleapis.com%2fauth%2fdrive.photos.readonly%20https%3a%2f%2fwww.googleapis.com%2fauth%2fpeopleapi.readonly\n",
            "\n",
            "Enter your authorization code:\n",
            "··········\n",
            "Mounted at /content/gdrive\n"
          ],
          "name": "stdout"
        }
      ]
    },
    {
      "cell_type": "code",
      "metadata": {
        "id": "E2j9XyL2sQvO",
        "colab_type": "code",
        "outputId": "bdb7cd05-e751-4317-bec0-f42df4416e0b",
        "colab": {
          "base_uri": "https://localhost:8080/",
          "height": 35
        }
      },
      "source": [
        "import tensorflow as tf\n",
        "print(\"Num GPUs Available: \", len(tf.config.experimental.list_physical_devices('GPU')))"
      ],
      "execution_count": 0,
      "outputs": [
        {
          "output_type": "stream",
          "text": [
            "Num GPUs Available:  0\n"
          ],
          "name": "stdout"
        }
      ]
    },
    {
      "cell_type": "markdown",
      "metadata": {
        "id": "i0KCg_1tBhJo",
        "colab_type": "text"
      },
      "source": [
        "# Installations and imports:"
      ]
    },
    {
      "cell_type": "code",
      "metadata": {
        "id": "EdAZmnXFWOro",
        "colab_type": "code",
        "colab": {}
      },
      "source": [
        "!pip install spacy\n",
        "!pip install contractions\n",
        "!pip install spacy-langdetect"
      ],
      "execution_count": 0,
      "outputs": []
    },
    {
      "cell_type": "markdown",
      "metadata": {
        "id": "nVzqgCQzQ2pH",
        "colab_type": "text"
      },
      "source": [
        "Change working directory"
      ]
    },
    {
      "cell_type": "code",
      "metadata": {
        "id": "d08bfsrNQrFS",
        "colab_type": "code",
        "outputId": "a29147c1-9dba-4857-8dcc-1bda79cf5276",
        "colab": {
          "base_uri": "https://localhost:8080/",
          "height": 35
        }
      },
      "source": [
        "%cd /content/gdrive/My Drive/yelp"
      ],
      "execution_count": 0,
      "outputs": [
        {
          "output_type": "stream",
          "text": [
            "/content/gdrive/My Drive/yelp\n"
          ],
          "name": "stdout"
        }
      ]
    },
    {
      "cell_type": "markdown",
      "metadata": {
        "id": "mPjoGlFswZCx",
        "colab_type": "text"
      },
      "source": [
        "GloVe embeddings"
      ]
    },
    {
      "cell_type": "code",
      "metadata": {
        "id": "ntRPHon4pjqK",
        "colab_type": "code",
        "colab": {}
      },
      "source": [
        "!wget http://nlp.stanford.edu/data/glove.twitter.27B.zip"
      ],
      "execution_count": 0,
      "outputs": []
    },
    {
      "cell_type": "code",
      "metadata": {
        "id": "cnEfOfzIo5s5",
        "colab_type": "code",
        "colab": {}
      },
      "source": [
        "!unzip glove.twitter.27B.zip.2"
      ],
      "execution_count": 0,
      "outputs": []
    },
    {
      "cell_type": "markdown",
      "metadata": {
        "id": "Eg2bHXPCsXCG",
        "colab_type": "text"
      },
      "source": [
        "Imports:"
      ]
    },
    {
      "cell_type": "code",
      "metadata": {
        "id": "shz3tAhFsWR9",
        "colab_type": "code",
        "colab": {}
      },
      "source": [
        "import pandas as pd\n",
        "import tensorflow as tf\n",
        "import numpy as np\n",
        "from sklearn.feature_extraction.text import CountVectorizer\n",
        "from sklearn.model_selection import train_test_split\n",
        "import string\n",
        "import gc\n",
        "import contractions\n",
        "import spacy.cli,spacy"
      ],
      "execution_count": 0,
      "outputs": []
    },
    {
      "cell_type": "code",
      "metadata": {
        "id": "Nv3ZPjRXXCij",
        "colab_type": "code",
        "outputId": "fd343b70-aac5-484d-ff6d-5ef24ec40a7f",
        "colab": {
          "base_uri": "https://localhost:8080/",
          "height": 139
        }
      },
      "source": [
        "spacy.cli.download(\"en\")\n",
        "spacy.load('en_core_web_sm')"
      ],
      "execution_count": 0,
      "outputs": [
        {
          "output_type": "stream",
          "text": [
            "\u001b[38;5;2m✔ Download and installation successful\u001b[0m\n",
            "You can now load the model via spacy.load('en_core_web_sm')\n",
            "\u001b[38;5;2m✔ Linking successful\u001b[0m\n",
            "/usr/local/lib/python3.6/dist-packages/en_core_web_sm -->\n",
            "/usr/local/lib/python3.6/dist-packages/spacy/data/en\n",
            "You can now load the model via spacy.load('en')\n"
          ],
          "name": "stdout"
        },
        {
          "output_type": "execute_result",
          "data": {
            "text/plain": [
              "<spacy.lang.en.English at 0x7f3f74392550>"
            ]
          },
          "metadata": {
            "tags": []
          },
          "execution_count": 5
        }
      ]
    },
    {
      "cell_type": "markdown",
      "metadata": {
        "id": "2ER9inFddncc",
        "colab_type": "text"
      },
      "source": [
        "# Load dataset:\n",
        "**1] get file from  drive:**"
      ]
    },
    {
      "cell_type": "markdown",
      "metadata": {
        "id": "6EzQ8YTfsisx",
        "colab_type": "text"
      },
      "source": [
        "Read file:"
      ]
    },
    {
      "cell_type": "code",
      "metadata": {
        "id": "R9ysZrDeskZ_",
        "colab_type": "code",
        "outputId": "c008dfa9-6660-4c97-8893-d6705f4f16ac",
        "colab": {
          "base_uri": "https://localhost:8080/",
          "height": 35
        }
      },
      "source": [
        "df = pd.read_csv(\"yelp_review.csv\",usecols=['text','useful','stars'])\n",
        "\n",
        "df.shape"
      ],
      "execution_count": 0,
      "outputs": [
        {
          "output_type": "execute_result",
          "data": {
            "text/plain": [
              "(5261668, 3)"
            ]
          },
          "metadata": {
            "tags": []
          },
          "execution_count": 93
        }
      ]
    },
    {
      "cell_type": "code",
      "metadata": {
        "id": "Bqbs2rr51JP6",
        "colab_type": "code",
        "outputId": "f53a45d5-d80f-47cd-bbde-fbdb4fd3cb53",
        "colab": {
          "base_uri": "https://localhost:8080/",
          "height": 202
        }
      },
      "source": [
        "df.head()"
      ],
      "execution_count": 0,
      "outputs": [
        {
          "output_type": "execute_result",
          "data": {
            "text/html": [
              "<div>\n",
              "<style scoped>\n",
              "    .dataframe tbody tr th:only-of-type {\n",
              "        vertical-align: middle;\n",
              "    }\n",
              "\n",
              "    .dataframe tbody tr th {\n",
              "        vertical-align: top;\n",
              "    }\n",
              "\n",
              "    .dataframe thead th {\n",
              "        text-align: right;\n",
              "    }\n",
              "</style>\n",
              "<table border=\"1\" class=\"dataframe\">\n",
              "  <thead>\n",
              "    <tr style=\"text-align: right;\">\n",
              "      <th></th>\n",
              "      <th>stars</th>\n",
              "      <th>text</th>\n",
              "      <th>useful</th>\n",
              "    </tr>\n",
              "  </thead>\n",
              "  <tbody>\n",
              "    <tr>\n",
              "      <th>0</th>\n",
              "      <td>5</td>\n",
              "      <td>Super simple place but amazing nonetheless. It...</td>\n",
              "      <td>0</td>\n",
              "    </tr>\n",
              "    <tr>\n",
              "      <th>1</th>\n",
              "      <td>5</td>\n",
              "      <td>Small unassuming place that changes their menu...</td>\n",
              "      <td>0</td>\n",
              "    </tr>\n",
              "    <tr>\n",
              "      <th>2</th>\n",
              "      <td>5</td>\n",
              "      <td>Lester's is located in a beautiful neighborhoo...</td>\n",
              "      <td>0</td>\n",
              "    </tr>\n",
              "    <tr>\n",
              "      <th>3</th>\n",
              "      <td>4</td>\n",
              "      <td>Love coming here. Yes the place always needs t...</td>\n",
              "      <td>0</td>\n",
              "    </tr>\n",
              "    <tr>\n",
              "      <th>4</th>\n",
              "      <td>4</td>\n",
              "      <td>Had their chocolate almond croissant and it wa...</td>\n",
              "      <td>0</td>\n",
              "    </tr>\n",
              "  </tbody>\n",
              "</table>\n",
              "</div>"
            ],
            "text/plain": [
              "   stars                                               text  useful\n",
              "0      5  Super simple place but amazing nonetheless. It...       0\n",
              "1      5  Small unassuming place that changes their menu...       0\n",
              "2      5  Lester's is located in a beautiful neighborhoo...       0\n",
              "3      4  Love coming here. Yes the place always needs t...       0\n",
              "4      4  Had their chocolate almond croissant and it wa...       0"
            ]
          },
          "metadata": {
            "tags": []
          },
          "execution_count": 94
        }
      ]
    },
    {
      "cell_type": "markdown",
      "metadata": {
        "id": "mpJVhkQ2HUJd",
        "colab_type": "text"
      },
      "source": [
        "Drop reveiws that are not labelled as useful"
      ]
    },
    {
      "cell_type": "code",
      "metadata": {
        "id": "WDch8VZDG0Xq",
        "colab_type": "code",
        "colab": {}
      },
      "source": [
        "df = df.query('useful > 0')"
      ],
      "execution_count": 0,
      "outputs": []
    },
    {
      "cell_type": "code",
      "metadata": {
        "id": "qrU2hAo7Vtao",
        "colab_type": "code",
        "colab": {}
      },
      "source": [
        "del df['useful']"
      ],
      "execution_count": 0,
      "outputs": []
    },
    {
      "cell_type": "code",
      "metadata": {
        "id": "7rDeQPPyw4OT",
        "colab_type": "code",
        "outputId": "69cc5d2e-dba9-42d5-c35c-f14367567acf",
        "colab": {
          "base_uri": "https://localhost:8080/",
          "height": 35
        }
      },
      "source": [
        "print(df.shape)"
      ],
      "execution_count": 0,
      "outputs": [
        {
          "output_type": "stream",
          "text": [
            "(2517186, 2)\n"
          ],
          "name": "stdout"
        }
      ]
    },
    {
      "cell_type": "markdown",
      "metadata": {
        "id": "rNBHsMrCtFkM",
        "colab_type": "text"
      },
      "source": [
        "Bar chart of frequencies:"
      ]
    },
    {
      "cell_type": "code",
      "metadata": {
        "id": "nY0KvW_FtEi2",
        "colab_type": "code",
        "outputId": "39de7aea-ad0b-4a84-a3c5-73ff9633ac67",
        "colab": {
          "base_uri": "https://localhost:8080/",
          "height": 409
        }
      },
      "source": [
        "df.groupby('stars').size().plot.bar()\n",
        "print(df.groupby('stars').size())\n"
      ],
      "execution_count": 0,
      "outputs": [
        {
          "output_type": "stream",
          "text": [
            "stars\n",
            "1    429215\n",
            "2    241501\n",
            "3    303124\n",
            "4    586891\n",
            "5    956455\n",
            "dtype: int64\n"
          ],
          "name": "stdout"
        },
        {
          "output_type": "display_data",
          "data": {
            "image/png": "[encoded data removed]",
            "text/plain": [
              "<Figure size 432x288 with 1 Axes>"
            ]
          },
          "metadata": {
            "tags": [],
            "needs_background": "light"
          }
        }
      ]
    },
    {
      "cell_type": "markdown",
      "metadata": {
        "id": "VJ8rmTxpsy32",
        "colab_type": "text"
      },
      "source": [
        "Balance data:"
      ]
    },
    {
      "cell_type": "code",
      "metadata": {
        "id": "28UaAM8XLCg_",
        "colab_type": "code",
        "colab": {}
      },
      "source": [
        "#balance dataset\n",
        "df = df.groupby('stars', as_index=False).apply(lambda x: x.sample(n=241501)).reset_index(drop=True)\n",
        "\n"
      ],
      "execution_count": 0,
      "outputs": []
    },
    {
      "cell_type": "code",
      "metadata": {
        "id": "oqpTaDhEBPfI",
        "colab_type": "code",
        "colab": {}
      },
      "source": [
        "df=df.drop_duplicates(subset='text')\n",
        "df=df.dropna()"
      ],
      "execution_count": 0,
      "outputs": []
    },
    {
      "cell_type": "code",
      "metadata": {
        "id": "e1uQ4K_dfhbH",
        "colab_type": "code",
        "outputId": "bd919c1b-7834-4a4c-9f1c-b87eb4b0de86",
        "colab": {
          "base_uri": "https://localhost:8080/",
          "height": 35
        }
      },
      "source": [
        "df.shape"
      ],
      "execution_count": 0,
      "outputs": [
        {
          "output_type": "execute_result",
          "data": {
            "text/plain": [
              "(1207191, 2)"
            ]
          },
          "metadata": {
            "tags": []
          },
          "execution_count": 106
        }
      ]
    },
    {
      "cell_type": "markdown",
      "metadata": {
        "id": "a58IcxfTtjwl",
        "colab_type": "text"
      },
      "source": [
        "Drop some rows for a smaller dataset:"
      ]
    },
    {
      "cell_type": "code",
      "metadata": {
        "id": "SRESG9jStmVE",
        "colab_type": "code",
        "outputId": "9947e28e-0f9d-470b-fa94-c1879a3b0b8b",
        "colab": {
          "base_uri": "https://localhost:8080/",
          "height": 35
        }
      },
      "source": [
        "#drop some rows for a smaller datset\n",
        "remove_n=int(round(df.shape[0]*0.5))  #remove 30%\n",
        "drop_indices = np.random.choice(df.index, remove_n, replace=False)\n",
        "df= df.drop(drop_indices).reset_index(drop=True)\n",
        "df.shape"
      ],
      "execution_count": 0,
      "outputs": [
        {
          "output_type": "execute_result",
          "data": {
            "text/plain": [
              "(603595, 2)"
            ]
          },
          "metadata": {
            "tags": []
          },
          "execution_count": 107
        }
      ]
    },
    {
      "cell_type": "markdown",
      "metadata": {
        "id": "dKv4xi89H4cz",
        "colab_type": "text"
      },
      "source": [
        "shuffle dataset"
      ]
    },
    {
      "cell_type": "code",
      "metadata": {
        "id": "EFYU_jnDWbeC",
        "colab_type": "code",
        "colab": {}
      },
      "source": [
        "df = df.sample(frac=1).reset_index(drop=True)"
      ],
      "execution_count": 0,
      "outputs": []
    },
    {
      "cell_type": "code",
      "metadata": {
        "id": "8im0p2H6txwr",
        "colab_type": "code",
        "outputId": "a564443f-b6f5-40df-a3e0-fe980c1521a8",
        "colab": {
          "base_uri": "https://localhost:8080/",
          "height": 35
        }
      },
      "source": [
        "gc.collect()"
      ],
      "execution_count": 0,
      "outputs": [
        {
          "output_type": "execute_result",
          "data": {
            "text/plain": [
              "2526"
            ]
          },
          "metadata": {
            "tags": []
          },
          "execution_count": 109
        }
      ]
    },
    {
      "cell_type": "markdown",
      "metadata": {
        "id": "ZwbMdVPut3fe",
        "colab_type": "text"
      },
      "source": [
        "# Prepare text for processing:"
      ]
    },
    {
      "cell_type": "code",
      "metadata": {
        "id": "3QFr5albF0Ll",
        "colab_type": "code",
        "colab": {}
      },
      "source": [
        "from tqdm import tqdm #progress for pandas\n",
        "tqdm.pandas()\n",
        "from spacy_langdetect import LanguageDetector\n"
      ],
      "execution_count": 0,
      "outputs": []
    },
    {
      "cell_type": "code",
      "metadata": {
        "id": "1Revv0FvXZxA",
        "colab_type": "code",
        "colab": {}
      },
      "source": [
        "nlp = spacy.load(\"en_core_web_sm\")\n",
        "nlp.add_pipe(LanguageDetector(), name='language_detector', last=True)\n",
        "nlp.vocab[\"not\"].is_stop = False\n",
        "nlp.vocab[\"no\"].is_stop = False"
      ],
      "execution_count": 0,
      "outputs": []
    },
    {
      "cell_type": "code",
      "metadata": {
        "id": "wJU3saaCdozz",
        "colab_type": "code",
        "colab": {}
      },
      "source": [
        "def preProcess(doc):\n",
        "    #expand contractions:\n",
        "    doc=contractions.fix(doc)\n",
        "\n",
        "    doc = nlp(doc)\n",
        "    #make text lowercase\n",
        "    #remove punctuation\n",
        "    #remove special characters and stop words\n",
        "    tokens = [ token.lemma_.lower().strip() for token in doc\n",
        "              if not token.is_stop and not token.is_punct and\n",
        "              not token.is_space and token.is_alpha]    \n",
        "    return \" \".join(tokens)"
      ],
      "execution_count": 0,
      "outputs": []
    },
    {
      "cell_type": "code",
      "metadata": {
        "id": "fa6BrKlFASLJ",
        "colab_type": "code",
        "colab": {}
      },
      "source": [
        "def multiPreProcess(token):\n",
        "   if token.is_alpha and not token.is_stop and not token.is_punct and not token.is_space:\n",
        "        return True\n",
        "   return False\n",
        "    "
      ],
      "execution_count": 0,
      "outputs": []
    },
    {
      "cell_type": "code",
      "metadata": {
        "id": "yzdFzpgEFqRr",
        "colab_type": "code",
        "outputId": "eb9e9fe1-09f4-43cd-f43e-f722d8133885",
        "colab": {
          "base_uri": "https://localhost:8080/",
          "height": 35
        }
      },
      "source": [
        "df['text']=df['text'].progress_apply(lambda text: contractions.fix(text))"
      ],
      "execution_count": 0,
      "outputs": [
        {
          "output_type": "stream",
          "text": [
            "100%|██████████| 603595/603595 [00:31<00:00, 19069.97it/s]\n"
          ],
          "name": "stderr"
        }
      ]
    },
    {
      "cell_type": "code",
      "metadata": {
        "id": "lwSFjdoiDQI-",
        "colab_type": "code",
        "colab": {}
      },
      "source": [
        "docs = df['text'].tolist()"
      ],
      "execution_count": 0,
      "outputs": []
    },
    {
      "cell_type": "code",
      "metadata": {
        "id": "avvBoblQhYLq",
        "colab_type": "code",
        "outputId": "cc99a4e9-5c45-4a90-8b8e-6204d985aecf",
        "colab": {
          "base_uri": "https://localhost:8080/",
          "height": 35
        }
      },
      "source": [
        "cleanText = []\n",
        "lang = []\n",
        "for doc in tqdm(nlp.pipe(docs,disable=[\"tagger\", \"ner\"])):\n",
        "    lang.append(doc._.language)\n",
        "    tokens = [token.lemma_.lower().strip() for token in doc if multiPreProcess(token)]\n",
        "    cleanText.append(\" \".join(tokens))"
      ],
      "execution_count": 0,
      "outputs": [
        {
          "output_type": "stream",
          "text": [
            "603595it [2:18:29, 72.64it/s] \n"
          ],
          "name": "stderr"
        }
      ]
    },
    {
      "cell_type": "code",
      "metadata": {
        "id": "AdMoP7McnxnU",
        "colab_type": "code",
        "colab": {}
      },
      "source": [
        "language = [d.get('language') for d in lang]"
      ],
      "execution_count": 0,
      "outputs": []
    },
    {
      "cell_type": "code",
      "metadata": {
        "id": "-UP-FVDHZ4jm",
        "colab_type": "code",
        "colab": {}
      },
      "source": [
        "df=pd.DataFrame({'text':df['text'],'clean':cleanText, 'stars':df['stars'],'lang':language})"
      ],
      "execution_count": 0,
      "outputs": []
    },
    {
      "cell_type": "code",
      "metadata": {
        "id": "-1bcoWbIpBm_",
        "colab_type": "code",
        "colab": {}
      },
      "source": [
        "df = df.drop(df[df.lang != 'en'].index)"
      ],
      "execution_count": 0,
      "outputs": []
    },
    {
      "cell_type": "code",
      "metadata": {
        "id": "CPCJ_vRGpOMS",
        "colab_type": "code",
        "colab": {}
      },
      "source": [
        "del df['lang']"
      ],
      "execution_count": 0,
      "outputs": []
    },
    {
      "cell_type": "code",
      "metadata": {
        "id": "V-EM5ECSnvgn",
        "colab_type": "code",
        "outputId": "598ad0e9-1d4b-4ac0-8f55-83078e2c7a75",
        "colab": {
          "base_uri": "https://localhost:8080/",
          "height": 35
        }
      },
      "source": [
        "gc.collect()"
      ],
      "execution_count": 0,
      "outputs": [
        {
          "output_type": "execute_result",
          "data": {
            "text/plain": [
              "122"
            ]
          },
          "metadata": {
            "tags": []
          },
          "execution_count": 130
        }
      ]
    },
    {
      "cell_type": "code",
      "metadata": {
        "id": "eB83Qm9An_7B",
        "colab_type": "code",
        "colab": {}
      },
      "source": [
        "df.to_pickle('PreprocessedEnglishYelp3.pkl')"
      ],
      "execution_count": 0,
      "outputs": []
    },
    {
      "cell_type": "markdown",
      "metadata": {
        "id": "2AvKu5ehqRZd",
        "colab_type": "text"
      },
      "source": [
        "# Load clean data:"
      ]
    },
    {
      "cell_type": "code",
      "metadata": {
        "id": "4quOgAbD0sMU",
        "colab_type": "code",
        "colab": {}
      },
      "source": [
        "import pickle as pkl"
      ],
      "execution_count": 0,
      "outputs": []
    },
    {
      "cell_type": "code",
      "metadata": {
        "id": "wWnZhr_EqVM0",
        "colab_type": "code",
        "colab": {}
      },
      "source": [
        "df = pd.read_pickle('PreprocessedEnglishYelp3.pkl')"
      ],
      "execution_count": 0,
      "outputs": []
    },
    {
      "cell_type": "code",
      "metadata": {
        "id": "lqoP-4QmvxGv",
        "colab_type": "code",
        "colab": {}
      },
      "source": [
        "test = pd.read_pickle('test1.pkl')\n",
        "train = pd.read_pickle('train1.pkl')"
      ],
      "execution_count": 0,
      "outputs": []
    },
    {
      "cell_type": "code",
      "metadata": {
        "id": "ffMbHkIZOupu",
        "colab_type": "code",
        "outputId": "5fa9ffd1-4ded-4aa1-d723-9774081ef643",
        "colab": {
          "base_uri": "https://localhost:8080/",
          "height": 35
        }
      },
      "source": [
        "df.shape"
      ],
      "execution_count": 0,
      "outputs": [
        {
          "output_type": "execute_result",
          "data": {
            "text/plain": [
              "(166594, 4)"
            ]
          },
          "metadata": {
            "tags": []
          },
          "execution_count": 76
        }
      ]
    },
    {
      "cell_type": "code",
      "metadata": {
        "id": "wMq2VvcRzHQ5",
        "colab_type": "code",
        "colab": {}
      },
      "source": [
        "with open('YelpBalancedTokenizer2.pkl', 'rb') as handle:\n",
        "    tokenizer = pkl.load(handle)"
      ],
      "execution_count": 0,
      "outputs": []
    },
    {
      "cell_type": "markdown",
      "metadata": {
        "id": "D0wVPjDECspj",
        "colab_type": "text"
      },
      "source": [
        "# Vectorization"
      ]
    },
    {
      "cell_type": "markdown",
      "metadata": {
        "id": "a40av04uCy1b",
        "colab_type": "text"
      },
      "source": [
        "load GloVe embeddings"
      ]
    },
    {
      "cell_type": "code",
      "metadata": {
        "id": "cesJQ_E-zLpS",
        "colab_type": "code",
        "outputId": "aee86ed5-41cb-444b-a81c-666f058692b9",
        "colab": {
          "base_uri": "https://localhost:8080/",
          "height": 35
        }
      },
      "source": [
        "from keras.preprocessing.text import Tokenizer\n",
        "from keras.preprocessing.sequence import pad_sequences\n"
      ],
      "execution_count": 0,
      "outputs": [
        {
          "output_type": "stream",
          "text": [
            "Using TensorFlow backend.\n"
          ],
          "name": "stderr"
        }
      ]
    },
    {
      "cell_type": "code",
      "metadata": {
        "id": "zPjm4BewCyfR",
        "colab_type": "code",
        "colab": {}
      },
      "source": [
        "embeddings_dict = {}\n",
        "with open(\"glove.twitter.27B.200d.txt\", 'r') as f:\n",
        "    for line in f:\n",
        "        values = line.split()\n",
        "        word = values[0]\n",
        "        vector = np.asarray(values[1:], \"float32\")\n",
        "        embeddings_dict[word] = vector"
      ],
      "execution_count": 0,
      "outputs": []
    },
    {
      "cell_type": "markdown",
      "metadata": {
        "id": "fHO_zwwu04KV",
        "colab_type": "text"
      },
      "source": [
        "**Split data:**"
      ]
    },
    {
      "cell_type": "code",
      "metadata": {
        "id": "dcUaqel53HWb",
        "colab_type": "code",
        "colab": {}
      },
      "source": [
        "train, test = train_test_split(df, test_size=0.2,random_state=112)"
      ],
      "execution_count": 0,
      "outputs": []
    },
    {
      "cell_type": "code",
      "metadata": {
        "id": "eCDTwgTizqjv",
        "colab_type": "code",
        "colab": {}
      },
      "source": [
        "embed_size = 200 #embedding size\n",
        "max_features = 30000 #unique words\n",
        "maxlen = 250 #per review"
      ],
      "execution_count": 0,
      "outputs": []
    },
    {
      "cell_type": "code",
      "metadata": {
        "id": "qWdUBdtNyN1Y",
        "colab_type": "code",
        "colab": {}
      },
      "source": [
        "tokenizer=Tokenizer(num_words=max_features)\n",
        "tokenizer.fit_on_texts(list(train['text'].values))"
      ],
      "execution_count": 0,
      "outputs": []
    },
    {
      "cell_type": "markdown",
      "metadata": {
        "id": "mGWGIOfmwU1T",
        "colab_type": "text"
      },
      "source": [
        "Save tokenizer "
      ]
    },
    {
      "cell_type": "code",
      "metadata": {
        "colab_type": "code",
        "id": "EEQ-dyBLDS2a",
        "colab": {}
      },
      "source": [
        "with open('finalAttempt3.pkl', 'wb') as handle:\n",
        "    pkl.dump(tokenizer, handle, protocol=pkl.HIGHEST_PROTOCOL)"
      ],
      "execution_count": 0,
      "outputs": []
    },
    {
      "cell_type": "code",
      "metadata": {
        "id": "J_4AT8eR4DMT",
        "colab_type": "code",
        "colab": {}
      },
      "source": [
        "x_train=tokenizer.texts_to_sequences(list(train['text'].values))\n",
        "x_test=tokenizer.texts_to_sequences(list(test['text'].values))\n",
        "x_train=pad_sequences(x_train, maxlen=maxlen)\n",
        "x_test=pad_sequences(x_test,maxlen=maxlen)"
      ],
      "execution_count": 0,
      "outputs": []
    },
    {
      "cell_type": "markdown",
      "metadata": {
        "id": "qsKMqXNTGjLt",
        "colab_type": "text"
      },
      "source": [
        "One-hot encode the stars:"
      ]
    },
    {
      "cell_type": "code",
      "metadata": {
        "id": "nJtu1Pgx855m",
        "colab_type": "code",
        "colab": {}
      },
      "source": [
        "y_train = np.array(pd.get_dummies( train['stars']))\n",
        "y_test = np.array(pd.get_dummies(test['stars']))"
      ],
      "execution_count": 0,
      "outputs": []
    },
    {
      "cell_type": "code",
      "metadata": {
        "id": "fO4rzj7-MDqc",
        "colab_type": "code",
        "colab": {}
      },
      "source": [
        "y_train=np.array(train['stars'].values)\n",
        "y_test=np.array(test['stars'].values)"
      ],
      "execution_count": 0,
      "outputs": []
    },
    {
      "cell_type": "code",
      "metadata": {
        "id": "Cb_mC01_4urV",
        "colab_type": "code",
        "colab": {}
      },
      "source": [
        "word_index = tokenizer.word_index\n",
        "\n",
        "embedding_matrix = np.zeros((max_features, embed_size))\n",
        "for word, index in word_index.items():\n",
        "    if index > max_features-1:\n",
        "        continue\n",
        "    embedding_vector = embeddings_dict.get(word)\n",
        "    if embedding_vector is not None:\n",
        "        embedding_matrix[index] = embedding_vector"
      ],
      "execution_count": 0,
      "outputs": []
    },
    {
      "cell_type": "markdown",
      "metadata": {
        "colab_type": "text",
        "id": "FmJPtHRQFKHL"
      },
      "source": [
        "#Build Models:"
      ]
    },
    {
      "cell_type": "markdown",
      "metadata": {
        "id": "4mH4Rtzh2IEL",
        "colab_type": "text"
      },
      "source": [
        "# LSTM GRU\n",
        "from: https://www.kaggle.com/athoul01/predicting-yelp-ratings-from-review-text"
      ]
    },
    {
      "cell_type": "markdown",
      "metadata": {
        "id": "5uOE4kbFM3g1",
        "colab_type": "text"
      },
      "source": [
        "imports:"
      ]
    },
    {
      "cell_type": "code",
      "metadata": {
        "id": "rs2LFOsOAqlD",
        "colab_type": "code",
        "outputId": "8e77e9e8-e5c3-4822-f4ae-2e55c2c59e0f",
        "colab": {
          "base_uri": "https://localhost:8080/",
          "height": 35
        }
      },
      "source": [
        "gc.collect()"
      ],
      "execution_count": 0,
      "outputs": [
        {
          "output_type": "execute_result",
          "data": {
            "text/plain": [
              "275"
            ]
          },
          "metadata": {
            "tags": []
          },
          "execution_count": 41
        }
      ]
    },
    {
      "cell_type": "code",
      "metadata": {
        "id": "E7fsMC7NM4cU",
        "colab_type": "code",
        "colab": {}
      },
      "source": [
        "from tensorflow.keras.preprocessing.text import Tokenizer\n",
        "from tensorflow.keras.preprocessing.sequence import pad_sequences\n",
        "from tensorflow.keras.layers import Dense, Input,Conv1D, LSTM, Embedding, Dropout, Activation, SpatialDropout1D, GRU\n",
        "from tensorflow.keras.layers import BatchNormalization,Bidirectional,MaxPooling1D, GlobalAveragePooling1D, GlobalMaxPooling1D, concatenate\n",
        "from tensorflow.keras.models import Model\n",
        "from tensorflow.keras import initializers, regularizers, constraints, optimizers, layers\n",
        "from tensorflow.keras.utils import to_categorical\n",
        "from tensorflow.keras.callbacks import EarlyStopping, ModelCheckpoint\n",
        "from tensorflow.python.keras.layers import CuDNNLSTM, CuDNNGRU,Flatten, Attention\n",
        "from tensorflow.keras import Sequential\n",
        "from tensorflow.keras.optimizers import Adam\n",
        "from tensorflow.keras.regularizers import L1L2\n",
        "import tensorflow"
      ],
      "execution_count": 0,
      "outputs": []
    },
    {
      "cell_type": "code",
      "metadata": {
        "id": "bOE2CQcAK--d",
        "colab_type": "code",
        "colab": {}
      },
      "source": [
        "import tensorflow.keras.backend as K\n",
        "\n",
        "def soft_acc(y_true, y_pred):\n",
        "    return K.mean(K.equal(K.round(y_true), K.round(y_pred)))"
      ],
      "execution_count": 0,
      "outputs": []
    },
    {
      "cell_type": "code",
      "metadata": {
        "id": "1gEJrj88NXXB",
        "colab_type": "code",
        "colab": {}
      },
      "source": [
        "inp = Input(shape = (maxlen,))\n",
        "x = Embedding(max_features, embed_size, weights = [embedding_matrix], trainable = False)(inp)\n",
        "#x = SpatialDropout1D(0.2)(x)\n",
        "x = Bidirectional(LSTM(64, return_sequences=True))(x)#, kernel_regularizer=L1L2(l1=0.0001,l2=0.0001), recurrent_regularizer=L1L2(l1=0.0001,l2=0.0001)))(x)\n",
        "x = Bidirectional(GRU(64, return_sequences=True))(x)#,kernel_regularizer=L1L2(l1=0.0001,l2=0.0001), recurrent_regularizer=L1L2(l1=0.0001,l2=0.0001)))(x)\n",
        "avg_pool = GlobalAveragePooling1D()(x)\n",
        "max_pool = GlobalMaxPooling1D()(x)\n",
        "conc = concatenate([avg_pool, max_pool])\n",
        "conc = Dropout(0.2)(conc)\n",
        "conc = Dense (20)(conc)\n",
        "conc = Dropout(0.2)(conc)\n",
        "outp = Dense(5, activation = 'softmax')(conc)\n",
        "model = Model(inputs = inp, outputs = outp)\n",
        "# patience is how many epochs to wait to see if val_loss will improve again.\n",
        "earlystop = EarlyStopping(monitor = 'val_loss', patience = 6)\n",
        "model.compile(loss = 'categorical_crossentropy', optimizer = 'Nadam', metrics=['acc'])"
      ],
      "execution_count": 0,
      "outputs": []
    },
    {
      "cell_type": "code",
      "metadata": {
        "id": "WIkVnMuWBZ3G",
        "colab_type": "code",
        "colab": {}
      },
      "source": [
        "model.load_weights('multiclass.h5')"
      ],
      "execution_count": 0,
      "outputs": []
    },
    {
      "cell_type": "code",
      "metadata": {
        "id": "GeCaeeUgKe8o",
        "colab_type": "code",
        "colab": {}
      },
      "source": [
        "model.save('finalModel.h5')"
      ],
      "execution_count": 0,
      "outputs": []
    },
    {
      "cell_type": "code",
      "metadata": {
        "id": "XGNjZnPx--uE",
        "colab_type": "code",
        "outputId": "82aab155-9281-4625-b902-b4ac63cbf7b4",
        "colab": {
          "base_uri": "https://localhost:8080/",
          "height": 865
        }
      },
      "source": [
        "tensorflow.keras.utils.plot_model(\n",
        "    model,\n",
        "    to_file=\"LSTMGRU.png\",\n",
        "    show_shapes=True,\n",
        "    show_layer_names=False,\n",
        "    rankdir=\"TB\",\n",
        "    expand_nested=False,\n",
        "    dpi=96,\n",
        ")"
      ],
      "execution_count": 0,
      "outputs": [
        {
          "output_type": "execute_result",
          "data": {
            "image/png": "[encoded data removed]",
            "text/plain": [
              "<IPython.core.display.Image object>"
            ]
          },
          "metadata": {
            "tags": []
          },
          "execution_count": 59
        }
      ]
    },
    {
      "cell_type": "code",
      "metadata": {
        "id": "RzuuzIIbqDyn",
        "colab_type": "code",
        "outputId": "052efbb6-a968-44c8-c25f-8f26ce1389e4",
        "colab": {
          "base_uri": "https://localhost:8080/",
          "height": 35
        }
      },
      "source": [
        "gc.collect()"
      ],
      "execution_count": 0,
      "outputs": [
        {
          "output_type": "execute_result",
          "data": {
            "text/plain": [
              "41953"
            ]
          },
          "metadata": {
            "tags": []
          },
          "execution_count": 34
        }
      ]
    },
    {
      "cell_type": "code",
      "metadata": {
        "id": "Zh1kzJQ7QX2O",
        "colab_type": "code",
        "colab": {}
      },
      "source": [
        "history=model.fit(x_train, y_train,initial_epoch=0 ,batch_size = 2000, shuffle=True, epochs = 50, validation_split = .2,callbacks=[earlystop])"
      ],
      "execution_count": 0,
      "outputs": []
    },
    {
      "cell_type": "code",
      "metadata": {
        "id": "VnJk_U4nj_Zu",
        "colab_type": "code",
        "colab": {}
      },
      "source": [
        "accuracy=[]\n",
        "val_acc=[]\n",
        "loss=[]\n",
        "val_loss=[]"
      ],
      "execution_count": 0,
      "outputs": []
    },
    {
      "cell_type": "code",
      "metadata": {
        "id": "_4qaAiRNjHT0",
        "colab_type": "code",
        "colab": {}
      },
      "source": [
        "accuracy.extend(history.history['acc'] )\n",
        "loss.extend(history.history['loss'] )\n",
        "val_acc.extend(history.history['val_acc'] )\n",
        "val_loss.extend(history.history['val_loss'] )"
      ],
      "execution_count": 0,
      "outputs": []
    },
    {
      "cell_type": "code",
      "metadata": {
        "id": "fR1PnRKJjnkF",
        "colab_type": "code",
        "colab": {}
      },
      "source": [
        "import matplotlib.pyplot as plt\n",
        "plt.title('Training Curve')\n",
        "plt.xlabel('Epoch')\n",
        "plt.plot(accuracy)\n",
        "plt.plot(val_acc)\n",
        "\n",
        "plt.legend(['accuracy','val_accuracy'], loc='upper left')\n",
        "\n",
        "\n",
        "plt.show()"
      ],
      "execution_count": 0,
      "outputs": []
    },
    {
      "cell_type": "code",
      "metadata": {
        "colab_type": "code",
        "id": "bqP93ruKBM6T",
        "colab": {}
      },
      "source": [
        "plt.title('Training Curve')\n",
        "plt.xlabel('Epoch')\n",
        "plt.plot(loss)\n",
        "plt.plot(val_loss)\n",
        "plt.legend(['loss','val_loss'], loc='upper left')\n",
        "\n",
        "\n",
        "plt.show()"
      ],
      "execution_count": 0,
      "outputs": []
    },
    {
      "cell_type": "code",
      "metadata": {
        "colab_type": "code",
        "id": "apDPntaf8ZfW",
        "colab": {}
      },
      "source": [
        "model.evaluate(x_test, y_test, verbose = 1, batch_size=1024)"
      ],
      "execution_count": 0,
      "outputs": []
    },
    {
      "cell_type": "code",
      "metadata": {
        "colab_type": "code",
        "id": "0XQftzKJgVKa",
        "colab": {}
      },
      "source": [
        "predictions = model.predict(x_test, verbose = 1)"
      ],
      "execution_count": 0,
      "outputs": []
    },
    {
      "cell_type": "code",
      "metadata": {
        "id": "i12aWMsaKhdR",
        "colab_type": "code",
        "colab": {}
      },
      "source": [
        "preds=[]\n",
        "for p in (predictions):\n",
        "  preds.append(np.argmax(p)+1)"
      ],
      "execution_count": 0,
      "outputs": []
    },
    {
      "cell_type": "code",
      "metadata": {
        "colab_type": "code",
        "id": "cVw2X2dWgVKf",
        "colab": {}
      },
      "source": [
        "from sklearn.metrics import classification_report\n",
        "\n",
        "print(classification_report(preds,test['stars']))"
      ],
      "execution_count": 0,
      "outputs": []
    },
    {
      "cell_type": "code",
      "metadata": {
        "id": "k_NWStaRjO1Q",
        "colab_type": "code",
        "colab": {}
      },
      "source": [
        "import matplotlib.pyplot as plt\n",
        "import seaborn as sns\n",
        "from sklearn.metrics import confusion_matrix\n",
        "\n",
        "\n",
        "true=np.array(test['stars'].values)\n",
        "\n",
        "cf_matrix = confusion_matrix(true,preds)\n",
        "\n",
        "sns.heatmap(cf_matrix/np.sum(cf_matrix), annot=True, \n",
        "            fmt='.2%', cmap='Blues',xticklabels=['1','2','3','4','5'],yticklabels=['1','2','3','4','5'])\n",
        "plt.show()\n"
      ],
      "execution_count": 0,
      "outputs": []
    },
    {
      "cell_type": "markdown",
      "metadata": {
        "id": "T31SFftEG6Ce",
        "colab_type": "text"
      },
      "source": [
        "# CNN with LSTM: "
      ]
    },
    {
      "cell_type": "markdown",
      "metadata": {
        "id": "g7OZUCgEHGfN",
        "colab_type": "text"
      },
      "source": [
        "from: https://medium.com/@mrunal68/text-sentiments-classification-with-cnn-and-lstm-f92652bc29fd"
      ]
    },
    {
      "cell_type": "code",
      "metadata": {
        "id": "FnJaNdCMHL0L",
        "colab_type": "code",
        "outputId": "be4712c0-ba6d-4f53-e01f-1bef35372f4e",
        "colab": {
          "base_uri": "https://localhost:8080/",
          "height": 416
        }
      },
      "source": [
        "from tensorflow.keras.optimizers import Nadam,Adamax,Adam\n",
        "from tensorflow.keras.layers import BatchNormalization\n",
        "from tensorflow.keras.regularizers import l2\n",
        "\n",
        "model = Sequential()\n",
        "model.add(Embedding(max_features, embed_size,weights = [embedding_matrix],input_length=maxlen, trainable = False))\n",
        "model.add(Conv1D(filters=64, kernel_size=5, activation='relu'))\n",
        "model.add(MaxPooling1D(pool_size=4))\n",
        "model.add(Dropout(0.5))\n",
        "model.add(Bidirectional(CuDNNLSTM(128)))\n",
        "model.add(Dropout(0.4))\n",
        "model.add(Dense(1, activation='linear'))\n",
        "model.compile(loss='mse',\n",
        "              optimizer='Nadam',\n",
        "              metrics=[soft_acc])\n",
        "print(model.summary())\n",
        "callbacks = [EarlyStopping(monitor='val_loss', patience=6)]"
      ],
      "execution_count": 0,
      "outputs": [
        {
          "output_type": "stream",
          "text": [
            "Model: \"sequential_3\"\n",
            "_________________________________________________________________\n",
            "Layer (type)                 Output Shape              Param #   \n",
            "=================================================================\n",
            "embedding_9 (Embedding)      (None, 250, 200)          6000000   \n",
            "_________________________________________________________________\n",
            "conv1d_3 (Conv1D)            (None, 246, 64)           64064     \n",
            "_________________________________________________________________\n",
            "max_pooling1d_3 (MaxPooling1 (None, 61, 64)            0         \n",
            "_________________________________________________________________\n",
            "dropout_10 (Dropout)         (None, 61, 64)            0         \n",
            "_________________________________________________________________\n",
            "bidirectional_11 (Bidirectio (None, 256)               198656    \n",
            "_________________________________________________________________\n",
            "dropout_11 (Dropout)         (None, 256)               0         \n",
            "_________________________________________________________________\n",
            "dense_9 (Dense)              (None, 1)                 257       \n",
            "=================================================================\n",
            "Total params: 6,262,977\n",
            "Trainable params: 262,977\n",
            "Non-trainable params: 6,000,000\n",
            "_________________________________________________________________\n",
            "None\n"
          ],
          "name": "stdout"
        }
      ]
    },
    {
      "cell_type": "code",
      "metadata": {
        "id": "xSEQ6_zGx7CG",
        "colab_type": "code",
        "colab": {}
      },
      "source": [
        "model= tensorflow.keras.models.load_model('cnnlstm.h5')"
      ],
      "execution_count": 0,
      "outputs": []
    },
    {
      "cell_type": "code",
      "metadata": {
        "id": "X0XLuNzZL0nr",
        "colab_type": "code",
        "outputId": "92aa7b59-3430-4c4c-80b0-7fbb0403cb2c",
        "colab": {
          "base_uri": "https://localhost:8080/",
          "height": 865
        }
      },
      "source": [
        "tensorflow.keras.utils.plot_model(\n",
        "    model,\n",
        "    to_file=\"LSTMGRU.png\",\n",
        "    show_shapes=True,\n",
        "    show_layer_names=False,\n",
        "    rankdir=\"TB\",\n",
        "    expand_nested=False,\n",
        "    dpi=96,\n",
        ")"
      ],
      "execution_count": 0,
      "outputs": [
        {
          "output_type": "execute_result",
          "data": {
            "image/png": "[encoded data removed]",
            "text/plain": [
              "<IPython.core.display.Image object>"
            ]
          },
          "metadata": {
            "tags": []
          },
          "execution_count": 78
        }
      ]
    },
    {
      "cell_type": "code",
      "metadata": {
        "id": "LzmLbZuvc6FM",
        "colab_type": "code",
        "outputId": "b1a463e1-9c2e-4804-eb4f-0e0e6d23b408",
        "colab": {
          "base_uri": "https://localhost:8080/",
          "height": 35
        }
      },
      "source": [
        "gc.collect()"
      ],
      "execution_count": 0,
      "outputs": [
        {
          "output_type": "execute_result",
          "data": {
            "text/plain": [
              "11225"
            ]
          },
          "metadata": {
            "tags": []
          },
          "execution_count": 33
        }
      ]
    },
    {
      "cell_type": "code",
      "metadata": {
        "id": "SG4XG0YlLCOQ",
        "colab_type": "code",
        "outputId": "12299e42-a28a-4c63-85d1-79884c56664c",
        "colab": {
          "base_uri": "https://localhost:8080/",
          "height": 1000
        }
      },
      "source": [
        "history=model.fit(x_train, y_train,initial_epoch=0, epochs=50, shuffle=True, batch_size=1500,verbose = 1,callbacks = callbacks,validation_split = .3)"
      ],
      "execution_count": 0,
      "outputs": [
        {
          "output_type": "stream",
          "text": [
            "Epoch 1/50\n",
            "224/224 [==============================] - 30s 133ms/step - loss: 1.3361 - soft_acc: 0.3482 - val_loss: 0.8779 - val_soft_acc: 0.4226\n",
            "Epoch 2/50\n",
            "224/224 [==============================] - 30s 132ms/step - loss: 0.8729 - soft_acc: 0.4312 - val_loss: 0.7160 - val_soft_acc: 0.4816\n",
            "Epoch 3/50\n",
            "224/224 [==============================] - 29s 131ms/step - loss: 0.7901 - soft_acc: 0.4596 - val_loss: 0.6713 - val_soft_acc: 0.4961\n",
            "Epoch 4/50\n",
            "224/224 [==============================] - 29s 131ms/step - loss: 0.7479 - soft_acc: 0.4740 - val_loss: 0.6460 - val_soft_acc: 0.5077\n",
            "Epoch 5/50\n",
            "224/224 [==============================] - 30s 133ms/step - loss: 0.7189 - soft_acc: 0.4833 - val_loss: 0.6448 - val_soft_acc: 0.5101\n",
            "Epoch 6/50\n",
            "224/224 [==============================] - 29s 131ms/step - loss: 0.6961 - soft_acc: 0.4917 - val_loss: 0.6311 - val_soft_acc: 0.5068\n",
            "Epoch 7/50\n",
            "224/224 [==============================] - 29s 131ms/step - loss: 0.6766 - soft_acc: 0.4991 - val_loss: 0.6048 - val_soft_acc: 0.5305\n",
            "Epoch 8/50\n",
            "224/224 [==============================] - 29s 131ms/step - loss: 0.6625 - soft_acc: 0.5036 - val_loss: 0.6003 - val_soft_acc: 0.5360\n",
            "Epoch 9/50\n",
            "224/224 [==============================] - 29s 131ms/step - loss: 0.6481 - soft_acc: 0.5088 - val_loss: 0.6168 - val_soft_acc: 0.5311\n",
            "Epoch 10/50\n",
            "224/224 [==============================] - 30s 133ms/step - loss: 0.6370 - soft_acc: 0.5139 - val_loss: 0.6119 - val_soft_acc: 0.5091\n",
            "Epoch 11/50\n",
            "224/224 [==============================] - 30s 132ms/step - loss: 0.6283 - soft_acc: 0.5166 - val_loss: 0.6051 - val_soft_acc: 0.5377\n",
            "Epoch 12/50\n",
            "224/224 [==============================] - 29s 131ms/step - loss: 0.6197 - soft_acc: 0.5197 - val_loss: 0.5890 - val_soft_acc: 0.5347\n",
            "Epoch 13/50\n",
            "224/224 [==============================] - 29s 131ms/step - loss: 0.6122 - soft_acc: 0.5227 - val_loss: 0.6102 - val_soft_acc: 0.5197\n",
            "Epoch 14/50\n",
            "224/224 [==============================] - 29s 131ms/step - loss: 0.6042 - soft_acc: 0.5264 - val_loss: 0.5820 - val_soft_acc: 0.5396\n",
            "Epoch 15/50\n",
            "224/224 [==============================] - 29s 131ms/step - loss: 0.5983 - soft_acc: 0.5289 - val_loss: 0.5743 - val_soft_acc: 0.5528\n",
            "Epoch 16/50\n",
            "224/224 [==============================] - 30s 132ms/step - loss: 0.5920 - soft_acc: 0.5314 - val_loss: 0.6140 - val_soft_acc: 0.5380\n",
            "Epoch 17/50\n",
            "224/224 [==============================] - 30s 133ms/step - loss: 0.5866 - soft_acc: 0.5336 - val_loss: 0.5710 - val_soft_acc: 0.5471\n",
            "Epoch 18/50\n",
            "224/224 [==============================] - 29s 131ms/step - loss: 0.5806 - soft_acc: 0.5366 - val_loss: 0.5965 - val_soft_acc: 0.5353\n",
            "Epoch 19/50\n",
            "224/224 [==============================] - 29s 131ms/step - loss: 0.5721 - soft_acc: 0.5386 - val_loss: 0.5748 - val_soft_acc: 0.5513\n",
            "Epoch 20/50\n",
            "224/224 [==============================] - 29s 131ms/step - loss: 0.5736 - soft_acc: 0.5387 - val_loss: 0.5676 - val_soft_acc: 0.5512\n",
            "Epoch 21/50\n",
            "224/224 [==============================] - 29s 131ms/step - loss: 0.5675 - soft_acc: 0.5409 - val_loss: 0.5845 - val_soft_acc: 0.5473\n",
            "Epoch 22/50\n",
            "224/224 [==============================] - 29s 132ms/step - loss: 0.5629 - soft_acc: 0.5419 - val_loss: 0.5670 - val_soft_acc: 0.5638\n",
            "Epoch 23/50\n",
            "224/224 [==============================] - 30s 133ms/step - loss: 0.5610 - soft_acc: 0.5432 - val_loss: 0.5625 - val_soft_acc: 0.5613\n",
            "Epoch 24/50\n",
            "224/224 [==============================] - 29s 131ms/step - loss: 0.5576 - soft_acc: 0.5451 - val_loss: 0.5662 - val_soft_acc: 0.5662\n",
            "Epoch 25/50\n",
            "224/224 [==============================] - 29s 131ms/step - loss: 0.5530 - soft_acc: 0.5470 - val_loss: 0.5656 - val_soft_acc: 0.5580\n",
            "Epoch 26/50\n",
            "224/224 [==============================] - 29s 131ms/step - loss: 0.5515 - soft_acc: 0.5472 - val_loss: 0.5612 - val_soft_acc: 0.5606\n",
            "Epoch 27/50\n",
            "224/224 [==============================] - 29s 131ms/step - loss: 0.5481 - soft_acc: 0.5473 - val_loss: 0.5614 - val_soft_acc: 0.5663\n",
            "Epoch 28/50\n",
            "224/224 [==============================] - 29s 131ms/step - loss: 0.5442 - soft_acc: 0.5500 - val_loss: 0.5642 - val_soft_acc: 0.5567\n",
            "Epoch 29/50\n",
            "224/224 [==============================] - 30s 133ms/step - loss: 0.5419 - soft_acc: 0.5502 - val_loss: 0.5622 - val_soft_acc: 0.5629\n",
            "Epoch 30/50\n",
            "224/224 [==============================] - 29s 131ms/step - loss: 0.5400 - soft_acc: 0.5519 - val_loss: 0.5599 - val_soft_acc: 0.5623\n",
            "Epoch 31/50\n",
            "224/224 [==============================] - 29s 131ms/step - loss: 0.5369 - soft_acc: 0.5527 - val_loss: 0.5628 - val_soft_acc: 0.5555\n",
            "Epoch 32/50\n",
            "224/224 [==============================] - 29s 131ms/step - loss: 0.5346 - soft_acc: 0.5532 - val_loss: 0.5671 - val_soft_acc: 0.5593\n",
            "Epoch 33/50\n",
            "224/224 [==============================] - 29s 131ms/step - loss: 0.5329 - soft_acc: 0.5540 - val_loss: 0.5704 - val_soft_acc: 0.5569\n",
            "Epoch 34/50\n",
            "224/224 [==============================] - 29s 131ms/step - loss: 0.5298 - soft_acc: 0.5553 - val_loss: 0.5664 - val_soft_acc: 0.5553\n",
            "Epoch 35/50\n",
            "224/224 [==============================] - 29s 132ms/step - loss: 0.5276 - soft_acc: 0.5569 - val_loss: 0.5711 - val_soft_acc: 0.5604\n",
            "Epoch 36/50\n",
            "224/224 [==============================] - 29s 131ms/step - loss: 0.5284 - soft_acc: 0.5558 - val_loss: 0.5574 - val_soft_acc: 0.5668\n",
            "Epoch 37/50\n",
            "224/224 [==============================] - 29s 130ms/step - loss: 0.5244 - soft_acc: 0.5573 - val_loss: 0.5577 - val_soft_acc: 0.5647\n",
            "Epoch 38/50\n",
            "224/224 [==============================] - 29s 130ms/step - loss: 0.5233 - soft_acc: 0.5573 - val_loss: 0.5595 - val_soft_acc: 0.5607\n",
            "Epoch 39/50\n",
            "224/224 [==============================] - 29s 130ms/step - loss: 0.5191 - soft_acc: 0.5591 - val_loss: 0.5624 - val_soft_acc: 0.5666\n",
            "Epoch 40/50\n",
            "224/224 [==============================] - 29s 131ms/step - loss: 0.5184 - soft_acc: 0.5602 - val_loss: 0.5590 - val_soft_acc: 0.5619\n",
            "Epoch 41/50\n",
            "224/224 [==============================] - 30s 133ms/step - loss: 0.5183 - soft_acc: 0.5600 - val_loss: 0.5615 - val_soft_acc: 0.5655\n",
            "Epoch 42/50\n",
            "224/224 [==============================] - 29s 131ms/step - loss: 0.5158 - soft_acc: 0.5614 - val_loss: 0.5583 - val_soft_acc: 0.5703\n"
          ],
          "name": "stdout"
        }
      ]
    },
    {
      "cell_type": "code",
      "metadata": {
        "id": "OUUAm_u8y5Lg",
        "colab_type": "code",
        "outputId": "893e565e-08bb-4601-90ca-f386b9044e0f",
        "colab": {
          "base_uri": "https://localhost:8080/",
          "height": 52
        }
      },
      "source": [
        "print(train.shape)\n",
        "print(test.shape)"
      ],
      "execution_count": 0,
      "outputs": [
        {
          "output_type": "stream",
          "text": [
            "(479528, 3)\n",
            "(119882, 3)\n"
          ],
          "name": "stdout"
        }
      ]
    },
    {
      "cell_type": "code",
      "metadata": {
        "id": "eRWUD_pobO-i",
        "colab_type": "code",
        "colab": {}
      },
      "source": [
        "model.save('cnnlstm.h5')"
      ],
      "execution_count": 0,
      "outputs": []
    },
    {
      "cell_type": "code",
      "metadata": {
        "colab_type": "code",
        "id": "8HrErEDUPf_f",
        "outputId": "7a19de04-a7e4-4814-c2a4-0d8c40511424",
        "colab": {
          "base_uri": "https://localhost:8080/",
          "height": 35
        }
      },
      "source": [
        "predictions = model.predict(x_test, verbose = 1)"
      ],
      "execution_count": 0,
      "outputs": [
        {
          "output_type": "stream",
          "text": [
            "3747/3747 [==============================] - 19s 5ms/step\n"
          ],
          "name": "stdout"
        }
      ]
    },
    {
      "cell_type": "code",
      "metadata": {
        "colab_type": "code",
        "id": "2OBKV7ppPJYp",
        "colab": {}
      },
      "source": [
        "preds=[]\n",
        "for p in (predictions):\n",
        "  preds.append(np.argmax(p)+1)"
      ],
      "execution_count": 0,
      "outputs": []
    },
    {
      "cell_type": "code",
      "metadata": {
        "id": "uf3Xnh1HpXMt",
        "colab_type": "code",
        "colab": {}
      },
      "source": [
        "preds=np.rint(predictions).astype(int)"
      ],
      "execution_count": 0,
      "outputs": []
    },
    {
      "cell_type": "code",
      "metadata": {
        "colab_type": "code",
        "outputId": "1f444807-5f75-4df1-80a7-19c0fdd9a4d3",
        "id": "oCgaekC8Pf_i",
        "colab": {
          "base_uri": "https://localhost:8080/",
          "height": 225
        }
      },
      "source": [
        "from sklearn.metrics import classification_report\n",
        "\n",
        "print(classification_report(preds,test['stars']))"
      ],
      "execution_count": 0,
      "outputs": [
        {
          "output_type": "stream",
          "text": [
            "              precision    recall  f1-score   support\n",
            "\n",
            "           1       0.64      0.78      0.71     19783\n",
            "           2       0.55      0.49      0.52     26817\n",
            "           3       0.53      0.47      0.49     27319\n",
            "           4       0.57      0.47      0.52     28880\n",
            "           5       0.55      0.78      0.64     17083\n",
            "\n",
            "    accuracy                           0.57    119882\n",
            "   macro avg       0.57      0.60      0.58    119882\n",
            "weighted avg       0.57      0.57      0.56    119882\n",
            "\n"
          ],
          "name": "stdout"
        }
      ]
    },
    {
      "cell_type": "code",
      "metadata": {
        "colab_type": "code",
        "id": "JPWqkgUeKWO0",
        "outputId": "4a65dd70-d313-4e78-e50b-1a7332c3104e",
        "colab": {
          "base_uri": "https://localhost:8080/",
          "height": 295
        }
      },
      "source": [
        "import matplotlib.pyplot as plt\n",
        "plt.title('Training Curve')\n",
        "plt.xlabel('Epoch')\n",
        "plt.plot(history.history['accuracy'])\n",
        "plt.plot(history.history['val_accuracy'])\n",
        "plt.plot(history.history['loss'])\n",
        "plt.plot(history.history['val_loss'])\n",
        "plt.legend(['accuracy','val_acc', 'loss','val_loss'], loc='upper left')\n",
        "\n",
        "\n",
        "plt.show()"
      ],
      "execution_count": 0,
      "outputs": [
        {
          "output_type": "display_data",
          "data": {
            "image/png": "[encoded data removed]",
            "text/plain": [
              "<Figure size 432x288 with 1 Axes>"
            ]
          },
          "metadata": {
            "tags": [],
            "needs_background": "light"
          }
        }
      ]
    },
    {
      "cell_type": "code",
      "metadata": {
        "colab_type": "code",
        "outputId": "998f81e4-cf30-4c9e-8bfd-bb53ec48732f",
        "id": "k1IGkBPJdhls",
        "colab": {
          "base_uri": "https://localhost:8080/",
          "height": 52
        }
      },
      "source": [
        "model.evaluate(x_test, y_test, verbose = 1, batch_size=1024)"
      ],
      "execution_count": 0,
      "outputs": [
        {
          "output_type": "stream",
          "text": [
            "206/206 [==============================] - 19s 93ms/step - loss: 0.8852 - accuracy: 0.6154\n"
          ],
          "name": "stdout"
        },
        {
          "output_type": "execute_result",
          "data": {
            "text/plain": [
              "[0.8851678967475891, 0.6154095530509949]"
            ]
          },
          "metadata": {
            "tags": []
          },
          "execution_count": 27
        }
      ]
    },
    {
      "cell_type": "code",
      "metadata": {
        "id": "EWVTEVfHd960",
        "colab_type": "code",
        "colab": {}
      },
      "source": [
        "model.save('yelpUnbalancedLSTM_CNN.h5')\n",
        "!cp yelpUnbalancedLSTM_CNN.h5 '/content/gdrive/''My Drive''/'"
      ],
      "execution_count": 0,
      "outputs": []
    },
    {
      "cell_type": "code",
      "metadata": {
        "colab_type": "code",
        "outputId": "8c6d43a4-efbc-4574-b871-c804b99cdf41",
        "id": "CsvnQY29UILa",
        "colab": {
          "base_uri": "https://localhost:8080/",
          "height": 295
        }
      },
      "source": [
        "import matplotlib.pyplot as plt\n",
        "plt.title('Training Curve')\n",
        "plt.xlabel('Epoch')\n",
        "plt.plot(history.history['accuracy'])\n",
        "plt.plot(history.history['loss'])\n",
        "plt.legend(['accuracy', 'loss'], loc='upper left')\n",
        "\n",
        "\n",
        "plt.show()"
      ],
      "execution_count": 0,
      "outputs": [
        {
          "output_type": "display_data",
          "data": {
            "image/png": "[encoded data removed]",
            "text/plain": [
              "<Figure size 432x288 with 1 Axes>"
            ]
          },
          "metadata": {
            "tags": [],
            "needs_background": "light"
          }
        }
      ]
    },
    {
      "cell_type": "code",
      "metadata": {
        "colab_type": "code",
        "outputId": "8e9f9b33-2603-4857-f81f-f6e6d8c93d4f",
        "id": "UeYdp5QFUILi",
        "colab": {
          "base_uri": "https://localhost:8080/",
          "height": 52
        }
      },
      "source": [
        "model.evaluate([x_test,x_test,x_test], y_test, verbose = 1, batch_size=1024)"
      ],
      "execution_count": 0,
      "outputs": [
        {
          "output_type": "stream",
          "text": [
            "428/428 [==============================] - 14s 32ms/step - loss: 0.3232 - accuracy: 0.5946\n"
          ],
          "name": "stdout"
        },
        {
          "output_type": "execute_result",
          "data": {
            "text/plain": [
              "[0.32320526242256165, 0.5945965051651001]"
            ]
          },
          "metadata": {
            "tags": []
          },
          "execution_count": 108
        }
      ]
    },
    {
      "cell_type": "code",
      "metadata": {
        "colab_type": "code",
        "id": "BuTjCS-4UILr",
        "colab": {}
      },
      "source": [
        "model.save('yelpCNN2.h5')\n",
        "!cp yelpCNN2.h5 '/content/gdrive/''My Drive''/'"
      ],
      "execution_count": 0,
      "outputs": []
    },
    {
      "cell_type": "markdown",
      "metadata": {
        "id": "AfYFZugPx_pg",
        "colab_type": "text"
      },
      "source": [
        "# SVM"
      ]
    },
    {
      "cell_type": "code",
      "metadata": {
        "colab_type": "code",
        "id": "Sl9lkQ3fsuL8",
        "colab": {}
      },
      "source": [
        "train, test = train_test_split(df, test_size=0.2,random_state=112)"
      ],
      "execution_count": 0,
      "outputs": []
    },
    {
      "cell_type": "code",
      "metadata": {
        "colab_type": "code",
        "id": "AuTZE2REsuL_",
        "colab": {}
      },
      "source": [
        "y_train=np.array(train['stars'].values)\n",
        "y_test=np.array(test['stars'].values)"
      ],
      "execution_count": 0,
      "outputs": []
    },
    {
      "cell_type": "code",
      "metadata": {
        "id": "BGOOMz5T2gp-",
        "colab_type": "code",
        "colab": {}
      },
      "source": [
        "from sklearn.svm import LinearSVC, LinearSVR\n",
        "from sklearn.linear_model import LogisticRegression\n",
        "from sklearn.feature_extraction.text import TfidfVectorizer\n",
        "from sklearn.feature_extraction.text import CountVectorizer"
      ],
      "execution_count": 0,
      "outputs": []
    },
    {
      "cell_type": "code",
      "metadata": {
        "id": "Hams6pCsXm5y",
        "colab_type": "code",
        "colab": {}
      },
      "source": [
        "tfidf = TfidfVectorizer(max_features=30000,ngram_range=(1,1))\n",
        "tfidf.fit(list(train['text'].values))\n",
        "x_train=tfidf.transform(list(train['text'].values))\n",
        "x_test=tfidf.transform(list(test['text'].values))\n",
        "x_train.shape"
      ],
      "execution_count": 0,
      "outputs": []
    },
    {
      "cell_type": "code",
      "metadata": {
        "colab_type": "code",
        "id": "MTBT_jbe_YY_",
        "colab": {}
      },
      "source": [
        "#save model\n",
        "import pickle\n",
        "pickle.dump(tfidf, open(\"tfidf1.pkl\", \"wb\"))\n"
      ],
      "execution_count": 0,
      "outputs": []
    },
    {
      "cell_type": "code",
      "metadata": {
        "id": "tyhJwXwMoS5j",
        "colab_type": "code",
        "colab": {}
      },
      "source": [
        "print(tfidf.get_feature_names())"
      ],
      "execution_count": 0,
      "outputs": []
    },
    {
      "cell_type": "code",
      "metadata": {
        "id": "cre3kb112j92",
        "colab_type": "code",
        "outputId": "7cc79755-6cdd-481c-8b60-3f89c07c7ebd",
        "colab": {
          "base_uri": "https://localhost:8080/",
          "height": 35
        }
      },
      "source": [
        "svc_model = LinearSVC(multi_class='ovr', verbose=1000,  max_iter=50000)\n",
        "svc_model.fit(x_train,y_train)\n",
        "prediction= svc_model.predict(x_test)\n",
        "print(\"SVM done training\")\n"
      ],
      "execution_count": 0,
      "outputs": [
        {
          "output_type": "stream",
          "text": [
            "[LibLinear]SVM done training\n"
          ],
          "name": "stdout"
        }
      ]
    },
    {
      "cell_type": "code",
      "metadata": {
        "colab_type": "code",
        "outputId": "823984bc-f809-4c95-aabe-54276a0f100e",
        "id": "we5sLeZnu-Ez",
        "colab": {
          "base_uri": "https://localhost:8080/",
          "height": 225
        }
      },
      "source": [
        "from sklearn.metrics import classification_report\n",
        "\n",
        "print(classification_report( y_test, prediction))"
      ],
      "execution_count": 0,
      "outputs": [
        {
          "output_type": "stream",
          "text": [
            "              precision    recall  f1-score   support\n",
            "\n",
            "           1       0.62      0.66      0.64      6641\n",
            "           2       0.43      0.41      0.42      6612\n",
            "           3       0.42      0.39      0.40      6719\n",
            "           4       0.43      0.43      0.43      6581\n",
            "           5       0.60      0.64      0.62      6766\n",
            "\n",
            "    accuracy                           0.51     33319\n",
            "   macro avg       0.50      0.51      0.50     33319\n",
            "weighted avg       0.50      0.51      0.50     33319\n",
            "\n"
          ],
          "name": "stdout"
        }
      ]
    },
    {
      "cell_type": "code",
      "metadata": {
        "id": "A5JbSUUt7ztF",
        "colab_type": "code",
        "outputId": "e8d38482-429c-4077-fc3d-9607ae5ad155",
        "colab": {
          "base_uri": "https://localhost:8080/",
          "height": 35
        }
      },
      "source": [
        "#save model\n",
        "import pickle\n",
        "filename = 'neutralSVM.sav'\n",
        "pickle.dump(svc_model, open(filename, 'wb'))\n",
        "print(\"SVM done saving\")"
      ],
      "execution_count": 0,
      "outputs": [
        {
          "output_type": "stream",
          "text": [
            "SVM done saving\n"
          ],
          "name": "stdout"
        }
      ]
    },
    {
      "cell_type": "markdown",
      "metadata": {
        "id": "TqQ_p926-50H",
        "colab_type": "text"
      },
      "source": [
        "# Logistic Regression"
      ]
    },
    {
      "cell_type": "code",
      "metadata": {
        "id": "lvqjSMaI--kL",
        "colab_type": "code",
        "outputId": "c38c7f2d-de03-4adc-d6a0-c04242901f2c",
        "colab": {
          "base_uri": "https://localhost:8080/",
          "height": 69
        }
      },
      "source": [
        "clf = LogisticRegression(random_state=0,verbose=100,multi_class='multinomial',solver='newton-cg')\n",
        "model=clf.fit(x_train,y_train)\n",
        "prediction= clf.predict(x_test)\n"
      ],
      "execution_count": 0,
      "outputs": [
        {
          "output_type": "stream",
          "text": [
            "[Parallel(n_jobs=1)]: Using backend SequentialBackend with 1 concurrent workers.\n",
            "[Parallel(n_jobs=1)]: Done   1 out of   1 | elapsed:   28.8s remaining:    0.0s\n",
            "[Parallel(n_jobs=1)]: Done   1 out of   1 | elapsed:   28.8s finished\n"
          ],
          "name": "stdout"
        }
      ]
    },
    {
      "cell_type": "code",
      "metadata": {
        "id": "OZ4gsTva2-cn",
        "colab_type": "code",
        "outputId": "2e407b53-a587-411d-fb5c-d86f06a550e3",
        "colab": {
          "base_uri": "https://localhost:8080/",
          "height": 225
        }
      },
      "source": [
        "from sklearn.metrics import classification_report\n",
        "\n",
        "print(classification_report( y_test, prediction))"
      ],
      "execution_count": 0,
      "outputs": [
        {
          "output_type": "stream",
          "text": [
            "              precision    recall  f1-score   support\n",
            "\n",
            "           1       0.66      0.69      0.67      6641\n",
            "           2       0.47      0.45      0.46      6612\n",
            "           3       0.45      0.43      0.44      6719\n",
            "           4       0.47      0.47      0.47      6581\n",
            "           5       0.64      0.66      0.65      6766\n",
            "\n",
            "    accuracy                           0.54     33319\n",
            "   macro avg       0.54      0.54      0.54     33319\n",
            "weighted avg       0.54      0.54      0.54     33319\n",
            "\n"
          ],
          "name": "stdout"
        }
      ]
    },
    {
      "cell_type": "code",
      "metadata": {
        "colab_type": "code",
        "outputId": "aeeff982-61e5-4d4a-bbee-a58227e9f147",
        "id": "lSK1v1EvF2XH",
        "colab": {
          "base_uri": "https://localhost:8080/",
          "height": 104
        }
      },
      "source": [
        "test.groupby('stars').size()"
      ],
      "execution_count": 0,
      "outputs": [
        {
          "output_type": "execute_result",
          "data": {
            "text/plain": [
              "stars\n",
              "1    38842\n",
              "3    38605\n",
              "5    38835\n",
              "dtype: int64"
            ]
          },
          "metadata": {
            "tags": []
          },
          "execution_count": 21
        }
      ]
    },
    {
      "cell_type": "code",
      "metadata": {
        "id": "LrFYpedt9_Le",
        "colab_type": "code",
        "outputId": "c51202a9-12e0-4e73-82c5-7562c95cc6ce",
        "colab": {
          "base_uri": "https://localhost:8080/",
          "height": 35
        }
      },
      "source": [
        "#save model\n",
        "import pickle\n",
        "filename = 'neutralLR.sav'\n",
        "pickle.dump(svc_model, open(filename, 'wb'))\n",
        "print(\"LR done saving\")"
      ],
      "execution_count": 0,
      "outputs": [
        {
          "output_type": "stream",
          "text": [
            "LR done saving\n"
          ],
          "name": "stdout"
        }
      ]
    },
    {
      "cell_type": "markdown",
      "metadata": {
        "id": "QjYc42sTepwV",
        "colab_type": "text"
      },
      "source": [
        "# Check using ratings and reviews of freelancers"
      ]
    },
    {
      "cell_type": "code",
      "metadata": {
        "id": "F9jV3GrvSvsU",
        "colab_type": "code",
        "colab": {}
      },
      "source": [
        "from tensorflow.keras.models import load_model"
      ],
      "execution_count": 0,
      "outputs": []
    },
    {
      "cell_type": "code",
      "metadata": {
        "id": "GaTUwG4qSp15",
        "colab_type": "code",
        "colab": {}
      },
      "source": [
        "model = load_model('LTSMcnn2.h5')"
      ],
      "execution_count": 0,
      "outputs": []
    },
    {
      "cell_type": "code",
      "metadata": {
        "id": "nKJJT1a_p-gl",
        "colab_type": "code",
        "colab": {}
      },
      "source": [
        "model.summary()"
      ],
      "execution_count": 0,
      "outputs": []
    },
    {
      "cell_type": "code",
      "metadata": {
        "id": "KGJFC-a2ewjt",
        "colab_type": "code",
        "colab": {}
      },
      "source": [
        "freelancers=pd.read_excel('freelancersRatings.xlsx')\n",
        "freelancers.head()\n",
        "freelancers=freelancers.dropna()"
      ],
      "execution_count": 0,
      "outputs": []
    },
    {
      "cell_type": "code",
      "metadata": {
        "id": "vYe4rysTg7vg",
        "colab_type": "code",
        "colab": {}
      },
      "source": [
        "freelancers.text=freelancers.text.astype(str)"
      ],
      "execution_count": 0,
      "outputs": []
    },
    {
      "cell_type": "code",
      "metadata": {
        "colab_type": "code",
        "id": "rLHP3QSBgD76",
        "colab": {}
      },
      "source": [
        "freelancers['clean']=freelancers['text'].apply(lambda text: preProcess(text))\n"
      ],
      "execution_count": 0,
      "outputs": []
    },
    {
      "cell_type": "code",
      "metadata": {
        "id": "izG0jKnTGCKB",
        "colab_type": "code",
        "colab": {}
      },
      "source": [
        "testReviews=tfidf.transform(list(freelancers['clean'].values))\n"
      ],
      "execution_count": 0,
      "outputs": []
    },
    {
      "cell_type": "code",
      "metadata": {
        "colab_type": "code",
        "id": "8SjG1P_dgh0g",
        "colab": {}
      },
      "source": [
        "testReviews=tokenizer.texts_to_sequences(freelancers['text'].values)\n",
        "testReviews=pad_sequences(testReviews, maxlen=maxlen)\n"
      ],
      "execution_count": 0,
      "outputs": []
    },
    {
      "cell_type": "code",
      "metadata": {
        "colab_type": "code",
        "id": "0as-MLnbgh0m",
        "outputId": "f6dca5c0-97c8-4ede-90b1-7144166841c6",
        "colab": {
          "base_uri": "https://localhost:8080/",
          "height": 69
        }
      },
      "source": [
        "freelancers['stars'].replace(0,1,inplace=True)\n",
        "#testRating = pd.get_dummies(freelancers['stars'])\n",
        "testRating=np.array(freelancers['stars'])\n",
        "print(freelancers['stars'].shape)\n",
        "print(len(testRating))\n",
        "print(testReviews.shape)"
      ],
      "execution_count": 0,
      "outputs": [
        {
          "output_type": "stream",
          "text": [
            "(61,)\n",
            "61\n",
            "(61, 2000)\n"
          ],
          "name": "stdout"
        }
      ]
    },
    {
      "cell_type": "code",
      "metadata": {
        "colab_type": "code",
        "id": "RniDdUNHgh0q",
        "outputId": "79186523-03d8-41cb-deab-6dfdde537082",
        "colab": {
          "base_uri": "https://localhost:8080/",
          "height": 52
        }
      },
      "source": [
        "model.evaluate(testReviews, testRating, verbose = 1)"
      ],
      "execution_count": 0,
      "outputs": [
        {
          "output_type": "stream",
          "text": [
            "2/2 [==============================] - 0s 191ms/step - loss: 1.3929 - soft_acc: 0.6433\n"
          ],
          "name": "stdout"
        },
        {
          "output_type": "execute_result",
          "data": {
            "text/plain": [
              "[1.392917513847351, 0.6433189511299133]"
            ]
          },
          "metadata": {
            "tags": []
          },
          "execution_count": 128
        }
      ]
    },
    {
      "cell_type": "code",
      "metadata": {
        "id": "BP4LvScdlepq",
        "colab_type": "code",
        "outputId": "72ca4971-53a1-44c7-f602-35f4fb1e40b3",
        "colab": {
          "base_uri": "https://localhost:8080/",
          "height": 243
        }
      },
      "source": [
        "from sklearn.metrics import classification_report\n",
        "\n",
        "y_pred = model.predict(testReviews, verbose = 1)\n",
        "preds=np.rint(y_pred).astype(int)\n",
        "#y_pred_bool = np.argmax(y_pred+1, axis=1)\n",
        "#for cell in np.nditer(y_pred_bool,op_flags=['readwrite']):\n",
        " #   cell[...] =cell+1\n",
        "print(classification_report( freelancers['stars'].astype(int), preds))"
      ],
      "execution_count": 0,
      "outputs": [
        {
          "output_type": "stream",
          "text": [
            "2/2 [==============================] - 0s 71ms/step\n",
            "              precision    recall  f1-score   support\n",
            "\n",
            "           1       1.00      0.10      0.18        10\n",
            "           2       0.00      0.00      0.00         2\n",
            "           3       0.17      0.33      0.22         3\n",
            "           4       0.40      0.25      0.31         8\n",
            "           5       0.73      0.92      0.81        38\n",
            "\n",
            "    accuracy                           0.64        61\n",
            "   macro avg       0.46      0.32      0.31        61\n",
            "weighted avg       0.68      0.64      0.59        61\n",
            "\n"
          ],
          "name": "stdout"
        }
      ]
    },
    {
      "cell_type": "code",
      "metadata": {
        "id": "vOwQvkVjpcWJ",
        "colab_type": "code",
        "outputId": "f5dd50cb-5d47-4413-c1ee-1344a50052d9",
        "colab": {
          "base_uri": "https://localhost:8080/",
          "height": 1000
        }
      },
      "source": [
        "for x,y in zip(preds,freelancers['stars']):\n",
        "  print(x,\" \", y)"
      ],
      "execution_count": 0,
      "outputs": [
        {
          "output_type": "stream",
          "text": [
            "[5]   5\n",
            "[5]   5\n",
            "[5]   5\n",
            "[4]   5\n",
            "[5]   3\n",
            "[5]   5\n",
            "[5]   5\n",
            "[5]   5\n",
            "[5]   5\n",
            "[5]   5\n",
            "[5]   4\n",
            "[5]   5\n",
            "[5]   5\n",
            "[4]   5\n",
            "[5]   5\n",
            "[5]   5\n",
            "[4]   5\n",
            "[5]   5\n",
            "[5]   4\n",
            "[5]   5\n",
            "[5]   5\n",
            "[5]   1\n",
            "[5]   5\n",
            "[5]   4\n",
            "[5]   5\n",
            "[2]   1\n",
            "[5]   1\n",
            "[5]   1\n",
            "[5]   3\n",
            "[3]   1\n",
            "[5]   2\n",
            "[5]   5\n",
            "[5]   5\n",
            "[5]   5\n",
            "[5]   5\n",
            "[5]   5\n",
            "[1]   1\n",
            "[5]   5\n",
            "[5]   5\n",
            "[5]   4\n",
            "[5]   5\n",
            "[5]   5\n",
            "[3]   1\n",
            "[4]   4\n",
            "[3]   3\n",
            "[5]   5\n",
            "[3]   1\n",
            "[5]   5\n",
            "[5]   2\n",
            "[5]   5\n",
            "[5]   5\n",
            "[5]   4\n",
            "[3]   1\n",
            "[5]   5\n",
            "[5]   5\n",
            "[3]   1\n",
            "[5]   5\n",
            "[4]   4\n",
            "[5]   5\n",
            "[5]   5\n",
            "[5]   4\n"
          ],
          "name": "stdout"
        }
      ]
    },
    {
      "cell_type": "code",
      "metadata": {
        "id": "CcPfxKDYphH6",
        "colab_type": "code",
        "outputId": "0f96de94-ba51-4588-aa6c-1ebb6a56c820",
        "colab": {
          "base_uri": "https://localhost:8080/",
          "height": 69
        }
      },
      "source": [
        "np.array(freelancers['stars'].astype(int))"
      ],
      "execution_count": 0,
      "outputs": [
        {
          "output_type": "execute_result",
          "data": {
            "text/plain": [
              "array([5, 5, 5, 4, 4, 5, 5, 5, 5, 5, 4, 4, 5, 5, 5, 5, 5, 5, 4, 5, 5, 1,\n",
              "       5, 4, 5, 1, 1, 1, 3, 1, 2, 5, 5, 5, 5, 5, 1, 5, 5, 4, 5, 5, 1, 4,\n",
              "       5, 1, 5, 2, 5, 5, 4, 5, 5, 5, 5, 5, 4])"
            ]
          },
          "metadata": {
            "tags": []
          },
          "execution_count": 165
        }
      ]
    },
    {
      "cell_type": "code",
      "metadata": {
        "id": "ITGDK251rDcf",
        "colab_type": "code",
        "colab": {}
      },
      "source": [
        "import itertools"
      ],
      "execution_count": 0,
      "outputs": []
    },
    {
      "cell_type": "code",
      "metadata": {
        "id": "cILWd27FsJTP",
        "colab_type": "code",
        "colab": {}
      },
      "source": [
        "freelancers['predictions']=y_pred_bool"
      ],
      "execution_count": 0,
      "outputs": []
    },
    {
      "cell_type": "code",
      "metadata": {
        "id": "OsW1ogMeq0W0",
        "colab_type": "code",
        "colab": {}
      },
      "source": [
        "missing =np.arange(len(np.array(y_pred_bool)))[np.array(y_pred_bool)!=np.array(freelancers['stars'])]"
      ],
      "execution_count": 0,
      "outputs": []
    },
    {
      "cell_type": "code",
      "metadata": {
        "id": "GKWtoTa8uIjv",
        "colab_type": "code",
        "colab": {}
      },
      "source": [
        ""
      ],
      "execution_count": 0,
      "outputs": []
    },
    {
      "cell_type": "code",
      "metadata": {
        "id": "71IbshsZrOrL",
        "colab_type": "code",
        "outputId": "28e56f28-baac-4724-ede6-2156ac32446f",
        "colab": {
          "base_uri": "https://localhost:8080/",
          "height": 601
        }
      },
      "source": [
        "freelancers.iloc[missing]"
      ],
      "execution_count": 0,
      "outputs": [
        {
          "output_type": "execute_result",
          "data": {
            "text/html": [
              "<div>\n",
              "<style scoped>\n",
              "    .dataframe tbody tr th:only-of-type {\n",
              "        vertical-align: middle;\n",
              "    }\n",
              "\n",
              "    .dataframe tbody tr th {\n",
              "        vertical-align: top;\n",
              "    }\n",
              "\n",
              "    .dataframe thead th {\n",
              "        text-align: right;\n",
              "    }\n",
              "</style>\n",
              "<table border=\"1\" class=\"dataframe\">\n",
              "  <thead>\n",
              "    <tr style=\"text-align: right;\">\n",
              "      <th></th>\n",
              "      <th>rating</th>\n",
              "      <th>text</th>\n",
              "      <th>stars</th>\n",
              "      <th>predictions</th>\n",
              "    </tr>\n",
              "  </thead>\n",
              "  <tbody>\n",
              "    <tr>\n",
              "      <th>4</th>\n",
              "      <td>4.0</td>\n",
              "      <td>\"The Coder knows what he is doing.\"</td>\n",
              "      <td>4</td>\n",
              "      <td>5</td>\n",
              "    </tr>\n",
              "    <tr>\n",
              "      <th>10</th>\n",
              "      <td>4.2</td>\n",
              "      <td>“These guys have excellent SEO services. in ju...</td>\n",
              "      <td>4</td>\n",
              "      <td>3</td>\n",
              "    </tr>\n",
              "    <tr>\n",
              "      <th>11</th>\n",
              "      <td>4.0</td>\n",
              "      <td>“Great job so far..”</td>\n",
              "      <td>4</td>\n",
              "      <td>5</td>\n",
              "    </tr>\n",
              "    <tr>\n",
              "      <th>14</th>\n",
              "      <td>5.0</td>\n",
              "      <td>“Good experience, would use again”</td>\n",
              "      <td>5</td>\n",
              "      <td>1</td>\n",
              "    </tr>\n",
              "    <tr>\n",
              "      <th>16</th>\n",
              "      <td>5.0</td>\n",
              "      <td>“Very good job! He fixed the problem really fa...</td>\n",
              "      <td>5</td>\n",
              "      <td>4</td>\n",
              "    </tr>\n",
              "    <tr>\n",
              "      <th>19</th>\n",
              "      <td>5.0</td>\n",
              "      <td>“excellent work! they do the necessary for cos...</td>\n",
              "      <td>5</td>\n",
              "      <td>1</td>\n",
              "    </tr>\n",
              "    <tr>\n",
              "      <th>21</th>\n",
              "      <td>1.0</td>\n",
              "      <td>“not prepared to make a comment”</td>\n",
              "      <td>1</td>\n",
              "      <td>5</td>\n",
              "    </tr>\n",
              "    <tr>\n",
              "      <th>24</th>\n",
              "      <td>5.0</td>\n",
              "      <td>“He is a good backlink builder, will keep on c...</td>\n",
              "      <td>5</td>\n",
              "      <td>4</td>\n",
              "    </tr>\n",
              "    <tr>\n",
              "      <th>27</th>\n",
              "      <td>1.0</td>\n",
              "      <td>“Bad communication”</td>\n",
              "      <td>1</td>\n",
              "      <td>5</td>\n",
              "    </tr>\n",
              "    <tr>\n",
              "      <th>28</th>\n",
              "      <td>3.4</td>\n",
              "      <td>“work is ok”</td>\n",
              "      <td>3</td>\n",
              "      <td>5</td>\n",
              "    </tr>\n",
              "    <tr>\n",
              "      <th>30</th>\n",
              "      <td>1.8</td>\n",
              "      <td>“Well, he can learn”</td>\n",
              "      <td>2</td>\n",
              "      <td>5</td>\n",
              "    </tr>\n",
              "    <tr>\n",
              "      <th>39</th>\n",
              "      <td>4.4</td>\n",
              "      <td>“nice guy”</td>\n",
              "      <td>4</td>\n",
              "      <td>5</td>\n",
              "    </tr>\n",
              "    <tr>\n",
              "      <th>43</th>\n",
              "      <td>3.6</td>\n",
              "      <td>\"Enthusiastic to do and has potential but not ...</td>\n",
              "      <td>4</td>\n",
              "      <td>3</td>\n",
              "    </tr>\n",
              "    <tr>\n",
              "      <th>45</th>\n",
              "      <td>1.0</td>\n",
              "      <td>\"The project was not completed since the freel...</td>\n",
              "      <td>1</td>\n",
              "      <td>2</td>\n",
              "    </tr>\n",
              "    <tr>\n",
              "      <th>47</th>\n",
              "      <td>2.2</td>\n",
              "      <td>\"Lots of mistakes on simple edit job\"</td>\n",
              "      <td>2</td>\n",
              "      <td>4</td>\n",
              "    </tr>\n",
              "    <tr>\n",
              "      <th>50</th>\n",
              "      <td>4.0</td>\n",
              "      <td>\"Thank you for being reliable ☺\"</td>\n",
              "      <td>4</td>\n",
              "      <td>5</td>\n",
              "    </tr>\n",
              "    <tr>\n",
              "      <th>53</th>\n",
              "      <td>5.0</td>\n",
              "      <td>\"Gianpiero, is proactive and fast in developme...</td>\n",
              "      <td>5</td>\n",
              "      <td>4</td>\n",
              "    </tr>\n",
              "    <tr>\n",
              "      <th>56</th>\n",
              "      <td>4.4</td>\n",
              "      <td>\"Good Food Catering helped make the night SUPE...</td>\n",
              "      <td>4</td>\n",
              "      <td>5</td>\n",
              "    </tr>\n",
              "  </tbody>\n",
              "</table>\n",
              "</div>"
            ],
            "text/plain": [
              "    rating  ... predictions\n",
              "4      4.0  ...           5\n",
              "10     4.2  ...           3\n",
              "11     4.0  ...           5\n",
              "14     5.0  ...           1\n",
              "16     5.0  ...           4\n",
              "19     5.0  ...           1\n",
              "21     1.0  ...           5\n",
              "24     5.0  ...           4\n",
              "27     1.0  ...           5\n",
              "28     3.4  ...           5\n",
              "30     1.8  ...           5\n",
              "39     4.4  ...           5\n",
              "43     3.6  ...           3\n",
              "45     1.0  ...           2\n",
              "47     2.2  ...           4\n",
              "50     4.0  ...           5\n",
              "53     5.0  ...           4\n",
              "56     4.4  ...           5\n",
              "\n",
              "[18 rows x 4 columns]"
            ]
          },
          "metadata": {
            "tags": []
          },
          "execution_count": 135
        }
      ]
    },
    {
      "cell_type": "markdown",
      "metadata": {
        "id": "FlY5bsdH2k-o",
        "colab_type": "text"
      },
      "source": [
        "# Predict Rating for a review:"
      ]
    },
    {
      "cell_type": "code",
      "metadata": {
        "id": "iMLcvzY32pzG",
        "colab_type": "code",
        "outputId": "1b579685-75c3-4af1-8231-90dfd3398ae6",
        "colab": {
          "base_uri": "https://localhost:8080/",
          "height": 52
        }
      },
      "source": [
        "review='he knows nothing and wasted my time'\n",
        "#clean:\n",
        "#cleanReview=preProcess(review)\n",
        "#tokenize:\n",
        "tokens=tokenizer.texts_to_sequences([review])\n",
        "#pad\n",
        "tokens=pad_sequences(tokens, maxlen=maxlen)\n",
        "#predict:\n",
        "y=model.predict(tokens,verbose=1)\n",
        "\n",
        "y_class = y.argmax(axis=-1)\n",
        "print(y_class+1)"
      ],
      "execution_count": 0,
      "outputs": [
        {
          "output_type": "stream",
          "text": [
            "1/1 [==============================] - 0s 1ms/step\n",
            "[1]\n"
          ],
          "name": "stdout"
        }
      ]
    },
    {
      "cell_type": "code",
      "metadata": {
        "id": "lpNDba7XBW6e",
        "colab_type": "code",
        "outputId": "1e57256b-4c3b-4716-f3e5-ffc27ea7ae3d",
        "colab": {
          "base_uri": "https://localhost:8080/",
          "height": 35
        }
      },
      "source": [
        "y_class = y.argmax(axis=-1)\n",
        "print(y_class+1)"
      ],
      "execution_count": 0,
      "outputs": [
        {
          "output_type": "stream",
          "text": [
            "[4]\n"
          ],
          "name": "stdout"
        }
      ]
    },
    {
      "cell_type": "code",
      "metadata": {
        "id": "bU-OalLvC1FP",
        "colab_type": "code",
        "colab": {}
      },
      "source": [
        ""
      ],
      "execution_count": 0,
      "outputs": []
    }
  ]
}